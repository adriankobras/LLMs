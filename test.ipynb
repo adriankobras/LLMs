{
 "cells": [
  {
   "cell_type": "code",
   "execution_count": null,
   "metadata": {},
   "outputs": [],
   "source": [
    "values = [3, 1, 2, 8, 2, 5]\n",
    "\n",
    "# the enumerate operator returns index and value of a list in a for loop\n",
    "for index, value in enumerate(values):\n",
    "    print('index: ' + str(index) + ', value: ' + str(value))"
   ]
  },
  {
   "cell_type": "markdown",
   "metadata": {},
   "source": [
    "To be able to acces class-variables from a function, we have to use the `self` parameter. `self` is needed, because whenever an object calls its own method, the object itself has to be passed as the first argument.\n",
    "\n",
    "The `__init__` method is part of every class and is called as soon as an object of a class is instantiated. The method can be used to initialize its object in some way. Note the double underscores at both the beginning and end of the name."
   ]
  },
  {
   "cell_type": "code",
   "execution_count": null,
   "metadata": {},
   "outputs": [],
   "source": [
    "class Engineer: \n",
    "    def __init__(self, name):\n",
    "        self.name = name\n",
    "    \n",
    "    def description(self):\n",
    "        print(self.name + \" is an Engineer!\")"
   ]
  },
  {
   "cell_type": "code",
   "execution_count": null,
   "metadata": {},
   "outputs": [],
   "source": [
    "eng = Engineer(\"Stefanie\") \n",
    "\n",
    "eng.description()"
   ]
  },
  {
   "cell_type": "code",
   "execution_count": null,
   "metadata": {},
   "outputs": [],
   "source": [
    "import numpy as np\n",
    "\n",
    "a = np.array([[1, 2, 3, 4], [5, 6, 7, 8]])\n",
    "print(a)"
   ]
  },
  {
   "cell_type": "code",
   "execution_count": null,
   "metadata": {},
   "outputs": [],
   "source": [
    "b = a[:, :2]\n",
    "print(b)\n",
    "print(b.shape)"
   ]
  }
 ],
 "metadata": {
  "kernelspec": {
   "display_name": "llm",
   "language": "python",
   "name": "python3"
  },
  "language_info": {
   "codemirror_mode": {
    "name": "ipython",
    "version": 3
   },
   "file_extension": ".py",
   "mimetype": "text/x-python",
   "name": "python",
   "nbconvert_exporter": "python",
   "pygments_lexer": "ipython3",
   "version": "3.12.2"
  }
 },
 "nbformat": 4,
 "nbformat_minor": 2
}
